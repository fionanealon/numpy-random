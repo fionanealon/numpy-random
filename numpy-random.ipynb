{
 "cells": [
  {
   "cell_type": "markdown",
   "metadata": {},
   "source": [
    "# Problem Statement"
   ]
  },
  {
   "cell_type": "markdown",
   "metadata": {},
   "source": [
    "The following assignment concerns the numpy.random package in Python. You are required to create a Jupyter notebook explaining the use of the package, including detailed eplanations of at least five of the distributions provided for in the package. There are 4 distinct tasks to be carried out in your Jupyter noteboook."
   ]
  },
  {
   "cell_type": "markdown",
   "metadata": {},
   "source": [
    "## References\n",
    "- https://docs.scipy.org/doc/numpy-1.15.1/reference/routines.random.html\n",
    "- https://realpython.com/python-random/\n",
    "- https://www.tutorialspoint.com/How-to-use-Python-Numpy-to-generate-Random-Numbers\n",
    "- https://www.mathworks.com/help/matlab/ref/rand.html\n",
    "- http://mathworld.wolfram.com/NormalDistribution.html\n",
    "- https://plot.ly/numpy/randint/\n",
    "- https://analytics4all.org/tag/python-numpy-random-integers\n",
    "- https://towardsdatascience.com/first-step-in-data-science-with-python-numpy-5e99d6821953\n",
    "- http://nbviewer.jupyter.org/github/mbakker7/exploratory_computing_with_python/blob/master/notebook4_functions/py_exploratory_comp_4_sol.ipynb\n",
    "- http://people.duke.edu/~ccc14/pcfb/numpympl/MatplotlibBasics.html\n",
    "- http://www.imagexd.org/tutorial/lessons/1_ransac.htm\n",
    "- https://www.digitalocean.com/community/tutorials/how-to-define-functions-in-python-3\n",
    "\n"
   ]
  },
  {
   "cell_type": "markdown",
   "metadata": {},
   "source": [
    "### 1. Explain the overall purpose of the package"
   ]
  },
  {
   "cell_type": "markdown",
   "metadata": {},
   "source": [
    "**The numpy package**\n",
    "\n",
    "Numpy, short for Numerical Python, provides a foundation for numerical computing in Python and is known as the numpy package. The numpy package contains a set of python functions. In order to use these functions, we need to import the numpy package using the syntax ```import numpy```. Any function from the numpy package can then be called as ```numpy.function()```. Numpy package lines of code can be abbreviated if we import numpy using the syntax ```import numpy as np```. Any function from the numpy package can then be called using the line of code ```np.function()```. [Ref: Numpy package](http://nbviewer.jupyter.org/github/mbakker7/exploratory_computing_with_python/blob/master/notebook4_functions/py_exploratory_comp_4_sol.ipynb)"
   ]
  },
  {
   "cell_type": "markdown",
   "metadata": {},
   "source": [
    "**The matplotlib package**\n",
    "\n",
    "Matplotlib is a plotting package in Python and is regularly used to produce plots and other two-dimensional data visualizations of numpy functions. We could say that the matplotlib package is heavily dependent on the numpy package.  In order to produce these  plotting functions, we need to import the matplotlib package using the syntax ```import matplotlib```. Any function from the matplotlib package can then be called as ```matplotlib.function()```. Matplotlib package lines of code can be abbreviated if we import matplotlib using the syntax ```import matplotlib as plt```. Any function from the matplotlib package can then be called using the line of code ```plt.function()```. [Ref: Matplotlib package](http://people.duke.edu/~ccc14/pcfb/numpympl/MatplotlibBasics.html)"
   ]
  },
  {
   "cell_type": "markdown",
   "metadata": {},
   "source": [
    "**Functions**\n",
    "\n",
    "A function is a block of code/instructions that performs an action/calculation and, once defined, can be repeated. [Ref: define a function](https://www.digitalocean.com/community/tutorials/how-to-define-functions-in-python-3) The ```def``` command is used to define a function. The following syntax is used to name a function ```def func(x):```. We can call arguments from the function using the call operator which has the following synatax ```()``` and is positioned after the name of the function. An argument of a function is the required input of a function. [Ref: define an argument](https://en.wikipedia.org/wiki/Argument_of_a_function) "
   ]
  },
  {
   "cell_type": "markdown",
   "metadata": {},
   "source": [
    "See the below example of a python function."
   ]
  },
  {
   "cell_type": "code",
   "execution_count": 2,
   "metadata": {},
   "outputs": [
    {
     "name": "stdout",
     "output_type": "stream",
     "text": [
      "The sum of the values from 1 to 10 inclusive is 55\n"
     ]
    }
   ],
   "source": [
    "def sumall(upto):\n",
    "  sumupto = 0\n",
    "  for i in range(1, upto + 1):\n",
    "    sumupto = sumupto + i\n",
    "  return sumupto\n",
    "\n",
    "print(\"The sum of the values from 1 to 10 inclusive is\", sumall(10))"
   ]
  },
  {
   "cell_type": "markdown",
   "metadata": {},
   "source": [
    "Subpackages are also contained within the numpy package. The random module is a subpackage contained within the numpy package. This module offers a suite of functions for generating random variables. After the numpy package has been imported as import numpy as np, functions from the random module can be called as np.random.function(). Ref: Random subpackage\n",
    "The random module in Numpy package contains many functions for generation of random numbers The Python standard library provides a module called random that offers a suite of functions for generating random numbers. Ref: Petal The random.numpy mdule supplements the built in Pythin random with functions for efficiently generating whole arrays of sample values from many kinds of probablility distributions.\n",
    "How random is random? This is a weird question to ask, but it is one of paramount importance in cases where information security is concerned. Whenever you’re generating random data, strings, or numbers in Python, it’s a good idea to have at least a rough idea of how that data was generated. Here, you’ll cover a handful of different options for generating random data in Python, and then build up to a comparison of each in terms of its level of security, versatility, purpose, and speed. I promise that this tutorial will not be a lesson in mathematics or cryptography, which I wouldn’t be well equipped to lecture on in the first place. You’ll get into just as much math as needed, and no more."
   ]
  },
  {
   "cell_type": "code",
   "execution_count": null,
   "metadata": {},
   "outputs": [],
   "source": []
  },
  {
   "cell_type": "code",
   "execution_count": 2,
   "metadata": {},
   "outputs": [],
   "source": [
    "import numpy as np"
   ]
  },
  {
   "cell_type": "code",
   "execution_count": 3,
   "metadata": {},
   "outputs": [],
   "source": [
    "import matplotlib.pyplot as plt"
   ]
  },
  {
   "cell_type": "code",
   "execution_count": 10,
   "metadata": {},
   "outputs": [
    {
     "data": {
      "text/plain": [
       "array([ 1.04842038, -1.07821982, -2.59297396, -0.16353095, -0.51450752,\n",
       "        0.14343616, -0.78236144, -0.06922949, -0.04778416,  2.3741877 ,\n",
       "        0.09637889, -1.60237564,  0.21360555, -0.96188134,  0.33348124,\n",
       "       -0.63144906,  0.85946882, -0.11418365, -0.59115535,  0.33442856,\n",
       "        1.10558655, -1.7074469 ,  0.05022514,  1.68035806, -0.51625485,\n",
       "       -0.76389958, -0.17817073,  0.94477805, -0.71730163, -2.42096245,\n",
       "        0.02906633,  0.01118169, -1.74960101, -1.41551809, -0.8472549 ,\n",
       "       -3.14645615, -0.94785671, -0.77393758,  0.76773432, -1.53648891,\n",
       "       -1.64516775,  0.12994508, -0.41078148,  0.30025046,  0.69581017,\n",
       "       -1.34213308,  0.58052824,  0.20870696, -0.84318095,  0.58121275,\n",
       "        0.07157352, -2.54539655,  1.45593816,  0.19192181,  0.16655334,\n",
       "        0.63512735,  0.23648702,  0.15715727,  1.89644531,  0.39093985,\n",
       "       -1.27355348, -0.13272723, -0.36506473,  1.07383887, -1.79223144,\n",
       "       -0.51403463,  0.26262564,  1.60141492, -0.42546352,  0.10805173,\n",
       "       -0.00969065,  0.00773739, -0.77892673,  0.40220918,  0.22402149,\n",
       "        0.31317381, -1.22810135,  0.82585546,  0.01192379, -1.47583797,\n",
       "        0.80462222, -0.68499179, -0.73221114,  0.03443796, -0.02221444,\n",
       "        0.68865784,  0.05140586, -2.65012051, -1.31055308, -0.10833108,\n",
       "       -0.17175413, -0.40866568,  1.2155261 ,  0.16664178, -0.14780438,\n",
       "        0.4709015 , -0.14429471,  0.12485066, -0.45059401,  0.86173236])"
      ]
     },
     "execution_count": 10,
     "metadata": {},
     "output_type": "execute_result"
    }
   ],
   "source": [
    "samples = np.random.normal(0.0, 1.0, 100)\n",
    "samples"
   ]
  },
  {
   "cell_type": "code",
   "execution_count": 11,
   "metadata": {},
   "outputs": [
    {
     "data": {
      "image/png": "[encoded data removed]",
      "text/plain": [
       "<matplotlib.figure.Figure at 0x29a0a947978>"
      ]
     },
     "metadata": {},
     "output_type": "display_data"
    }
   ],
   "source": [
    "plt.hist(samples, bins=10)\n",
    "plt.show()"
   ]
  },
  {
   "cell_type": "code",
   "execution_count": null,
   "metadata": {},
   "outputs": [],
   "source": [
    "This function returns numbers in an array of dimensions provived to it"
   ]
  },
  {
   "cell_type": "code",
   "execution_count": 1,
   "metadata": {},
   "outputs": [],
   "source": [
    "import numpy as np"
   ]
  },
  {
   "cell_type": "code",
   "execution_count": 5,
   "metadata": {},
   "outputs": [
    {
     "data": {
      "text/plain": [
       "array([[0.78369683, 0.24633791],\n",
       "       [0.13215013, 0.73800234],\n",
       "       [0.04774442, 0.93022976]])"
      ]
     },
     "execution_count": 5,
     "metadata": {},
     "output_type": "execute_result"
    }
   ],
   "source": [
    "np.random.rand(3, 2)\n",
    "# 3 rows, 2 columns"
   ]
  },
  {
   "cell_type": "code",
   "execution_count": 6,
   "metadata": {},
   "outputs": [
    {
     "data": {
      "text/plain": [
       "array([[0.50961107, 0.28586415, 0.29246669, 0.40443618],\n",
       "       [0.49106216, 0.10260601, 0.66752357, 0.19904405],\n",
       "       [0.00695628, 0.96242031, 0.95833357, 0.57248281],\n",
       "       [0.77680093, 0.21636772, 0.94709556, 0.80489187],\n",
       "       [0.68557274, 0.10181609, 0.56360487, 0.4206943 ],\n",
       "       [0.78136376, 0.67100401, 0.6503915 , 0.10150629],\n",
       "       [0.86704612, 0.81017732, 0.51115806, 0.58140893],\n",
       "       [0.57434987, 0.94850482, 0.02816885, 0.46273299],\n",
       "       [0.77380164, 0.48509739, 0.81518813, 0.34033346],\n",
       "       [0.31998091, 0.53712222, 0.93090291, 0.21568673]])"
      ]
     },
     "execution_count": 6,
     "metadata": {},
     "output_type": "execute_result"
    }
   ],
   "source": [
    "np.random.rand(10, 4)"
   ]
  },
  {
   "cell_type": "code",
   "execution_count": 10,
   "metadata": {},
   "outputs": [
    {
     "data": {
      "text/plain": [
       "0.9931138934215917"
      ]
     },
     "execution_count": 10,
     "metadata": {},
     "output_type": "execute_result"
    }
   ],
   "source": [
    "np.random.rand()\n",
    "# Generates a random number on the fly"
   ]
  },
  {
   "cell_type": "code",
   "execution_count": 11,
   "metadata": {},
   "outputs": [
    {
     "data": {
      "text/plain": [
       "array([[[0.41560638, 0.20493493, 0.68575435],\n",
       "        [0.36270402, 0.88486212, 0.89248468],\n",
       "        [0.18253354, 0.15169001, 0.5165264 ],\n",
       "        [0.46984334, 0.17884174, 0.87496013]],\n",
       "\n",
       "       [[0.01925929, 0.09513473, 0.09854258],\n",
       "        [0.76218316, 0.15125607, 0.87663062],\n",
       "        [0.0729201 , 0.50731447, 0.37575849],\n",
       "        [0.87244133, 0.6771571 , 0.22314408]]])"
      ]
     },
     "execution_count": 11,
     "metadata": {},
     "output_type": "execute_result"
    }
   ],
   "source": [
    "np.random.rand(2, 4, 3)\n",
    "## 2 arrays, 4 rows, 3 columns"
   ]
  },
  {
   "cell_type": "code",
   "execution_count": 13,
   "metadata": {},
   "outputs": [],
   "source": [
    "# [0, 1)\n",
    "# In mathematics, this is notation for an interval - section of the real line between 0 and 1.\n",
    "# Square bracket means [ is included and round bracket means 1 is not included.\n",
    "# Rand function can give you a number between 0 (including 0) and 1 (not including 1)."
   ]
  },
  {
   "cell_type": "code",
   "execution_count": 14,
   "metadata": {},
   "outputs": [],
   "source": [
    "import numpy as np"
   ]
  },
  {
   "cell_type": "code",
   "execution_count": 16,
   "metadata": {},
   "outputs": [
    {
     "data": {
      "text/plain": [
       "array([0.23207746, 0.86649114, 0.94116353, ..., 0.76494579, 0.94120061,\n",
       "       0.68014964])"
      ]
     },
     "execution_count": 16,
     "metadata": {},
     "output_type": "execute_result"
    }
   ],
   "source": [
    "x = np.random.rand(10000)\n",
    "x\n",
    "# Set x as the variable and generate 10000 numbers"
   ]
  },
  {
   "cell_type": "code",
   "execution_count": 18,
   "metadata": {},
   "outputs": [
    {
     "data": {
      "image/png": "[encoded data removed]",
      "text/plain": [
       "<Figure size 432x288 with 1 Axes>"
      ]
     },
     "metadata": {
      "needs_background": "light"
     },
     "output_type": "display_data"
    }
   ],
   "source": [
    "%matplotlib inline\n",
    "\n",
    "import matplotlib.pyplot as plt\n",
    "\n",
    "# Histogram is a plot for one dimensional data\n",
    "# Continuous variable\n",
    "# If you have a number of values and you wish to see what values are most typical in the random values that have created out of the 10000\n",
    "plt.hist(x)\n",
    "plt.show()"
   ]
  },
  {
   "cell_type": "markdown",
   "metadata": {},
   "source": [
    "### 2. Explain the use of the \"Simple random data\" and \"Permuations\" functions."
   ]
  },
  {
   "cell_type": "markdown",
   "metadata": {},
   "source": [
    "### rand function"
   ]
  },
  {
   "cell_type": "markdown",
   "metadata": {},
   "source": [
    "The rand function genrates random numbers between 0 and 1 that are distrobuted uniformly (all numbers are equally possible). X = rand returns a single uniformly distributed random number in the interval (0,1)."
   ]
  },
  {
   "cell_type": "code",
   "execution_count": 3,
   "metadata": {},
   "outputs": [],
   "source": [
    "import numpy as np"
   ]
  },
  {
   "cell_type": "code",
   "execution_count": 4,
   "metadata": {},
   "outputs": [
    {
     "data": {
      "text/plain": [
       "array([[0.62680858, 0.32958812],\n",
       "       [0.51089656, 0.27396981],\n",
       "       [0.53756798, 0.89428504]])"
      ]
     },
     "execution_count": 4,
     "metadata": {},
     "output_type": "execute_result"
    }
   ],
   "source": [
    "# Creates an array and that array contains 3 other arrays and each of these arrays has 2 elements\n",
    "# Returns floats\n",
    "np.random.rand(3, 2)"
   ]
  },
  {
   "cell_type": "code",
   "execution_count": 5,
   "metadata": {},
   "outputs": [
    {
     "data": {
      "text/plain": [
       "array([[0.72902417, 0.46648289],\n",
       "       [0.7222238 , 0.15957335],\n",
       "       [0.74594551, 0.85491092]])"
      ]
     },
     "execution_count": 5,
     "metadata": {},
     "output_type": "execute_result"
    }
   ],
   "source": [
    "# If I re-generate this function, different numbers are returned each time as the function generates random numbers\n",
    "np.random.rand(3, 2)"
   ]
  },
  {
   "cell_type": "code",
   "execution_count": 8,
   "metadata": {},
   "outputs": [
    {
     "data": {
      "text/plain": [
       "array([[0.774237  , 0.24069824, 0.03772796, 0.74770328, 0.84022427,\n",
       "        0.66313468, 0.20844571, 0.24935092, 0.53370262, 0.83519533],\n",
       "       [0.40655273, 0.69255786, 0.99427267, 0.57291345, 0.8908143 ,\n",
       "        0.41036505, 0.28311466, 0.20843306, 0.40886359, 0.12320844],\n",
       "       [0.77690323, 0.70766044, 0.20570717, 0.88974191, 0.26795692,\n",
       "        0.3261709 , 0.58803151, 0.18388565, 0.35651574, 0.28887749],\n",
       "       [0.3766089 , 0.20544514, 0.82507109, 0.70572811, 0.73097255,\n",
       "        0.1579805 , 0.13928256, 0.79020272, 0.27412366, 0.46424725]])"
      ]
     },
     "execution_count": 8,
     "metadata": {},
     "output_type": "execute_result"
    }
   ],
   "source": [
    "# Returns random numbers in an array of the dimensions that I give it\n",
    "np.random.rand(4, 10)"
   ]
  },
  {
   "cell_type": "code",
   "execution_count": 11,
   "metadata": {},
   "outputs": [
    {
     "data": {
      "text/plain": [
       "array([0.42058837, 0.79832309, 0.67206339, 0.747694  ])"
      ]
     },
     "execution_count": 11,
     "metadata": {},
     "output_type": "execute_result"
    }
   ],
   "source": [
    "# Creates an array with 4 elements. Values bewteen () provide the shape of the array (Rows, colums etc. that the array has) \n",
    "np.random.rand(4)"
   ]
  },
  {
   "cell_type": "code",
   "execution_count": 13,
   "metadata": {},
   "outputs": [
    {
     "data": {
      "text/plain": [
       "0.5318612686884766"
      ]
     },
     "execution_count": 13,
     "metadata": {},
     "output_type": "execute_result"
    }
   ],
   "source": [
    "# Rand function with no argument returns a single floating number\n",
    "np.random.rand()"
   ]
  },
  {
   "cell_type": "markdown",
   "metadata": {},
   "source": [
    "[0,1)\n",
    "- In mathematics, this is notation for an interval. The reason there is a '[' on the left hand side of the 0 is because teh interval includes the number 0. The reason there is a ')' on the right hand side of the 1 is because it doesnt include the number 1. Therefore, using this interval, the rand function can give you a number between 0 (including 0) and 1 (not including 1)."
   ]
  },
  {
   "cell_type": "code",
   "execution_count": 14,
   "metadata": {},
   "outputs": [],
   "source": [
    "import numpy as py"
   ]
  },
  {
   "cell_type": "code",
   "execution_count": 17,
   "metadata": {},
   "outputs": [
    {
     "data": {
      "text/plain": [
       "array([0.26443676, 0.28777689, 0.34803468, ..., 0.60894795, 0.47722477,\n",
       "       0.89297255])"
      ]
     },
     "execution_count": 17,
     "metadata": {},
     "output_type": "execute_result"
    }
   ],
   "source": [
    "x = np.random.rand(10000)\n",
    "x"
   ]
  },
  {
   "cell_type": "code",
   "execution_count": 23,
   "metadata": {},
   "outputs": [
    {
     "data": {
      "image/png": "[encoded data removed]",
      "text/plain": [
       "<Figure size 432x288 with 1 Axes>"
      ]
     },
     "metadata": {
      "needs_background": "light"
     },
     "output_type": "display_data"
    }
   ],
   "source": [
    "%matplotlib inline\n",
    "\n",
    "import matplotlib.pyplot as plt\n",
    "\n",
    "plt.hist(x)\n",
    "plt.show()"
   ]
  },
  {
   "cell_type": "markdown",
   "metadata": {},
   "source": [
    "The above histogram is a barchart/picture of the different random numbers that the function rand has generated for us. A histogram is similar to to a barchart but contains a continuous variable on the x axis. The hist function finds a resonable number of bars to segregate the data into.\n",
    "\n",
    "The above histogram is telling us that the rand function has generated 10,000 numbers where roughly 1,000 of them are between 0.0 and 0.1, roughly 1,000 of them are between 0.1 and 0.2, roughly 1,000 of them are between 0.2 and 0.3 etc all the way up to but including 1.0. Therefore, we can summize that the rand function is as likely to generate the number 0.55 as it 0.1 as it 0.726. All of the numbers between 0.0 and 1.0 have the same chance of being generated by this rand function."
   ]
  },
  {
   "cell_type": "markdown",
   "metadata": {},
   "source": [
    "### randn function"
   ]
  },
  {
   "cell_type": "markdown",
   "metadata": {},
   "source": [
    "X = rand(n) returns an n-by-n matrix of random numbers.\n",
    "Return a sample (or samples) from the “standard normal” distribution. Physicists sometimes call it a Gaussian distribution and, because of its curved flaring shape, social scientists refer to it as the \"bell curve.\" Feller (1968) uses the symbol phi(x) for P(x) in the above equation, but then switches to n(x) in Feller (1971). http://mathworld.wolfram.com/NormalDistribution.html"
   ]
  },
  {
   "cell_type": "code",
   "execution_count": 6,
   "metadata": {},
   "outputs": [],
   "source": [
    "import numpy as np"
   ]
  },
  {
   "cell_type": "code",
   "execution_count": 9,
   "metadata": {},
   "outputs": [
    {
     "data": {
      "text/plain": [
       "array([[ 1.15058099, -0.62486076],\n",
       "       [ 0.97767697,  0.75053364],\n",
       "       [ 0.23155171, -0.14002726]])"
      ]
     },
     "execution_count": 9,
     "metadata": {},
     "output_type": "execute_result"
    }
   ],
   "source": [
    "np.random.randn(3, 2)"
   ]
  },
  {
   "cell_type": "code",
   "execution_count": 10,
   "metadata": {},
   "outputs": [
    {
     "data": {
      "text/plain": [
       "array([[ 1.48504527, -0.46207808,  0.96136402,  0.69156818,  0.9296428 ,\n",
       "         0.15511424,  1.51760139,  0.72018747, -0.51140903,  2.70137498],\n",
       "       [-0.22766453,  0.42602137,  0.72528833,  0.11198563,  0.71408608,\n",
       "         0.92792819,  0.44111816, -1.06956254,  2.13099211, -0.12113583],\n",
       "       [-0.23439555,  1.8011915 ,  0.00541504,  0.33235984,  0.31396223,\n",
       "         0.82083664,  0.56301909,  1.01101422,  0.76496484, -1.05947842],\n",
       "       [ 0.60875986, -0.99589169,  0.6076282 ,  2.24102252,  0.58736573,\n",
       "        -0.90994839, -2.22539186, -0.34888718,  1.83979543, -0.31730104]])"
      ]
     },
     "execution_count": 10,
     "metadata": {},
     "output_type": "execute_result"
    }
   ],
   "source": [
    "np.random.randn(4, 10)"
   ]
  },
  {
   "cell_type": "code",
   "execution_count": 11,
   "metadata": {},
   "outputs": [
    {
     "data": {
      "text/plain": [
       "array([ 0.78578367,  0.4981903 , -0.38813093,  0.861087  ])"
      ]
     },
     "execution_count": 11,
     "metadata": {},
     "output_type": "execute_result"
    }
   ],
   "source": [
    "np.random.randn(4)"
   ]
  },
  {
   "cell_type": "code",
   "execution_count": 12,
   "metadata": {},
   "outputs": [
    {
     "data": {
      "text/plain": [
       "-0.1706368997960069"
      ]
     },
     "execution_count": 12,
     "metadata": {},
     "output_type": "execute_result"
    }
   ],
   "source": [
    "np.random.randn()"
   ]
  },
  {
   "cell_type": "code",
   "execution_count": 13,
   "metadata": {},
   "outputs": [
    {
     "data": {
      "text/plain": [
       "array([-0.29372988,  0.35110882,  0.13272823, ..., -1.04337728,\n",
       "        0.25916159, -1.15174601])"
      ]
     },
     "execution_count": 13,
     "metadata": {},
     "output_type": "execute_result"
    }
   ],
   "source": [
    "x = np.random.randn(10000)\n",
    "x"
   ]
  },
  {
   "cell_type": "code",
   "execution_count": 15,
   "metadata": {},
   "outputs": [
    {
     "data": {
      "image/png": "[encoded data removed]",
      "text/plain": [
       "<matplotlib.figure.Figure at 0x199d77ca550>"
      ]
     },
     "metadata": {},
     "output_type": "display_data"
    }
   ],
   "source": [
    "%matplotlib inline\n",
    "\n",
    "import matplotlib.pyplot as plt\n",
    "\n",
    "plt.hist(x)\n",
    "plt.show()"
   ]
  },
  {
   "cell_type": "markdown",
   "metadata": {},
   "source": [
    "### randint function"
   ]
  },
  {
   "cell_type": "markdown",
   "metadata": {},
   "source": [
    "Returns a random integer inbetwwen a max and a miin number inclusive of thise two integers. Return random integers from the “discrete uniform” distribution of the specified dtype in the “half-open” interval [low, high). If high is None (the default), then results are from [0, low).\n",
    "\n",
    "np.random.randint above takes three parameters — the lower limit 5, the upper limit 25 and number of items 10. The result of this execution will be that values will be assigned a NumPy array of 10 random numbers between 5 and 25. That is one way to create a NumPy array. Note that here the lower limit is inclusive and the upper limit is exclusive. So, 25 never appears on the array. np.random.seed is an interesting method. It takes a single argument (0 above) and what it does is, it returns a set of random numbers. What is interesting about it is the fact that, no matter when you execute the above block of code — now, after lunch or one year from now — you always get back the same set of random numbers. In contrast if you remove np.random.seedfrom the above block of code, you get back a different collection of random numbers on each execution. I’ve used 0 here for seed, but you can use any integer; you’ll just get back a different set of random numbers than mine."
   ]
  },
  {
   "cell_type": "code",
   "execution_count": 16,
   "metadata": {},
   "outputs": [],
   "source": [
    "import numpy as np"
   ]
  },
  {
   "cell_type": "code",
   "execution_count": null,
   "metadata": {},
   "outputs": [],
   "source": []
  },
  {
   "cell_type": "code",
   "execution_count": 29,
   "metadata": {},
   "outputs": [
    {
     "data": {
      "text/plain": [
       "19"
      ]
     },
     "execution_count": 29,
     "metadata": {},
     "output_type": "execute_result"
    }
   ],
   "source": [
    "np.random.randint(1, 100)"
   ]
  },
  {
   "cell_type": "code",
   "execution_count": 31,
   "metadata": {},
   "outputs": [
    {
     "data": {
      "text/plain": [
       "array([0, 0, 0, 0, 0, 0, 0, 0, 0, 0])"
      ]
     },
     "execution_count": 31,
     "metadata": {},
     "output_type": "execute_result"
    }
   ],
   "source": [
    "np.random.randint(1, size=10)"
   ]
  },
  {
   "cell_type": "code",
   "execution_count": 52,
   "metadata": {},
   "outputs": [
    {
     "data": {
      "text/plain": [
       "array([[4, 2, 1, 2],\n",
       "       [1, 1, 0, 4]])"
      ]
     },
     "execution_count": 52,
     "metadata": {},
     "output_type": "execute_result"
    }
   ],
   "source": [
    "np.random.randint(5, size=(2, 4))"
   ]
  },
  {
   "cell_type": "code",
   "execution_count": 32,
   "metadata": {},
   "outputs": [
    {
     "data": {
      "text/plain": [
       "array([[4, 4, 3, 3],\n",
       "       [1, 3, 4, 4]])"
      ]
     },
     "execution_count": 32,
     "metadata": {},
     "output_type": "execute_result"
    }
   ],
   "source": [
    "x = np.random.randint(5, size=(2, 4))\n",
    "x"
   ]
  },
  {
   "cell_type": "code",
   "execution_count": 33,
   "metadata": {},
   "outputs": [
    {
     "data": {
      "image/png": "[encoded data removed]",
      "text/plain": [
       "<matplotlib.figure.Figure at 0x199d780c898>"
      ]
     },
     "metadata": {},
     "output_type": "display_data"
    }
   ],
   "source": [
    "%matplotlib inline\n",
    "\n",
    "import matplotlib.pyplot as plt\n",
    "\n",
    "plt.hist(x)\n",
    "plt.show()"
   ]
  },
  {
   "cell_type": "markdown",
   "metadata": {},
   "source": [
    "### random integers function"
   ]
  },
  {
   "cell_type": "code",
   "execution_count": null,
   "metadata": {},
   "outputs": [],
   "source": [
    "import numpy as np"
   ]
  },
  {
   "cell_type": "code",
   "execution_count": 38,
   "metadata": {},
   "outputs": [
    {
     "name": "stderr",
     "output_type": "stream",
     "text": [
      "C:\\Users\\fnealon\\AppData\\Local\\Continuum\\anaconda3\\lib\\site-packages\\ipykernel_launcher.py:1: DeprecationWarning: This function is deprecated. Please call randint(1, 5 + 1) instead\n",
      "  \"\"\"Entry point for launching an IPython kernel.\n"
     ]
    },
    {
     "data": {
      "text/plain": [
       "array([3, 4, 4, 2, 1, 4, 3, 4, 5, 4, 4, 5, 4, 4, 3, 3, 2, 1, 1, 5])"
      ]
     },
     "execution_count": 38,
     "metadata": {},
     "output_type": "execute_result"
    }
   ],
   "source": [
    "x = np.random.random_integers(5, size=(20))\n",
    "x"
   ]
  },
  {
   "attachments": {
    "image.png": {
     "image/png": "[encoded data removed]"
    }
   },
   "cell_type": "markdown",
   "metadata": {},
   "source": [
    "![image.png](attachment:image.png)"
   ]
  },
  {
   "cell_type": "code",
   "execution_count": 40,
   "metadata": {},
   "outputs": [
    {
     "data": {
      "image/png": "[encoded data removed]",
      "text/plain": [
       "<matplotlib.figure.Figure at 0x199d80703c8>"
      ]
     },
     "metadata": {},
     "output_type": "display_data"
    }
   ],
   "source": [
    "%matplotlib inline\n",
    "\n",
    "import matplotlib.pyplot as plt\n",
    "\n",
    "plt.hist(x)\n",
    "plt.title('Freq Dist')\n",
    "plt.xlabel('Integer')\n",
    "plt.ylabel('Label')\n",
    "plt.show()"
   ]
  },
  {
   "cell_type": "markdown",
   "metadata": {},
   "source": [
    "### random sample function"
   ]
  },
  {
   "cell_type": "markdown",
   "metadata": {},
   "source": [
    "Return random floats in the half-open interval [0.0, 1.0).\n",
    "\n",
    "Results are from the “continuous uniform” distribution over the stated interval. To sample Unif[a, b), b > a multiply the output of random_sample by (b-a) and add a:"
   ]
  },
  {
   "cell_type": "code",
   "execution_count": 46,
   "metadata": {},
   "outputs": [
    {
     "data": {
      "text/plain": [
       "array([[-1.50350957, -4.47707231],\n",
       "       [-0.00666179, -1.40913864],\n",
       "       [-0.63308245, -1.63526222]])"
      ]
     },
     "execution_count": 46,
     "metadata": {},
     "output_type": "execute_result"
    }
   ],
   "source": [
    " 5 * np.random.random_sample((3, 2)) - 5"
   ]
  },
  {
   "cell_type": "code",
   "execution_count": 49,
   "metadata": {},
   "outputs": [
    {
     "data": {
      "image/png": "[encoded data removed]",
      "text/plain": [
       "<matplotlib.figure.Figure at 0x199d816b978>"
      ]
     },
     "metadata": {},
     "output_type": "display_data"
    }
   ],
   "source": [
    "%matplotlib inline\n",
    "\n",
    "import matplotlib.pyplot as plt\n",
    "\n",
    "plt.hist(x)\n",
    "\n",
    "plt.show()"
   ]
  },
  {
   "cell_type": "markdown",
   "metadata": {},
   "source": [
    "### random function"
   ]
  },
  {
   "cell_type": "markdown",
   "metadata": {},
   "source": [
    "Return random floats in the half-open interval [0.0, 1.0)."
   ]
  },
  {
   "cell_type": "markdown",
   "metadata": {},
   "source": [
    "### 3. Explain the use and purpose of at least five \"Distributions\" functions."
   ]
  },
  {
   "cell_type": "code",
   "execution_count": null,
   "metadata": {},
   "outputs": [],
   "source": []
  },
  {
   "cell_type": "markdown",
   "metadata": {},
   "source": [
    "### normal function"
   ]
  },
  {
   "cell_type": "code",
   "execution_count": 53,
   "metadata": {},
   "outputs": [],
   "source": [
    "import matplotlib.pyplot as plt"
   ]
  },
  {
   "cell_type": "code",
   "execution_count": 54,
   "metadata": {},
   "outputs": [],
   "source": [
    "import numpy as np"
   ]
  },
  {
   "cell_type": "code",
   "execution_count": 58,
   "metadata": {},
   "outputs": [
    {
     "data": {
      "text/plain": [
       "array([-1.14431830e+00, -1.56865004e+00, -6.18092346e-01,  1.83031864e-01,\n",
       "       -1.93125290e-01,  1.39700865e+00, -2.29941791e+00, -1.29856066e-01,\n",
       "       -6.27475330e-01,  1.64513016e+00,  2.57964302e-01, -2.66468279e-01,\n",
       "       -8.13569861e-01, -5.49715780e-01,  7.67081006e-01,  1.55912083e-01,\n",
       "       -4.76058457e-01,  3.26364091e-01,  5.42134983e-01,  1.74664564e+00,\n",
       "        6.66816923e-01,  3.05858581e-01, -1.75164148e+00,  2.28862228e+00,\n",
       "        1.28507662e+00, -1.23997172e+00,  1.47793748e+00,  3.46235969e-01,\n",
       "       -1.43781258e+00, -1.32053435e+00, -1.35296392e+00,  1.39019561e+00,\n",
       "       -7.78686285e-01, -5.17249622e-01,  6.99129837e-01,  6.99474035e-01,\n",
       "       -4.03380601e-01, -3.72886811e-02,  6.39902222e-01,  7.55157787e-01,\n",
       "        1.46115190e-01, -1.41218056e+00,  5.78710635e-01, -5.10221473e-01,\n",
       "        1.05451348e+00,  1.08520936e+00, -5.40480035e-01,  4.07327435e-01,\n",
       "        6.66635415e-01, -3.09232885e-01, -3.04993546e-01,  5.87072624e-01,\n",
       "       -3.85102562e-01, -6.06284990e-01, -2.77874877e-01, -1.05414855e-01,\n",
       "       -1.29534492e-01, -4.95045790e-01,  1.42136623e+00,  1.43550510e+00,\n",
       "        8.60649150e-01, -1.01993875e+00,  2.52513713e-01, -5.37658016e-01,\n",
       "        3.34660705e-01,  1.75398914e-01,  2.06818246e-01,  1.58713474e+00,\n",
       "        1.36659045e+00,  1.11031322e+00,  1.15755417e+00, -2.00267481e+00,\n",
       "       -8.99439447e-01,  1.10773284e-01, -6.75495821e-01, -7.83009910e-01,\n",
       "        1.89750202e+00, -3.80481515e-02,  6.38265021e-01, -4.93616027e-01,\n",
       "       -5.78737036e-01, -1.25028875e+00, -1.37689198e+00, -2.25045029e+00,\n",
       "        8.35947157e-01,  1.82699072e+00,  1.37020200e-01, -1.75628454e+00,\n",
       "        3.51259919e-01,  1.35427616e+00, -7.15784386e-02,  2.75730997e-01,\n",
       "        2.11506785e+00,  6.78776864e-01,  1.73286823e+00, -2.52742965e-01,\n",
       "        3.13550102e-01,  1.56433072e-01,  1.10176822e-01,  1.15356125e+00,\n",
       "        3.58817804e-01, -3.96768894e-01, -1.22838473e+00,  1.12307223e+00,\n",
       "       -4.15818883e-01,  8.47298568e-01, -1.39212735e+00,  1.07027082e-01,\n",
       "       -4.31728398e-01,  1.59507753e-01,  4.16600731e-01,  5.60473720e-01,\n",
       "        7.52752990e-01, -1.18567770e-01,  1.28431316e-01,  1.00607234e+00,\n",
       "        4.52109434e-01,  2.07087194e+00, -3.13642550e-01,  1.10144827e+00,\n",
       "       -6.79568978e-02, -5.71075762e-01, -2.20835146e-01,  5.83355107e-03,\n",
       "        2.34985435e-01, -4.31217158e-01,  1.71306983e+00,  5.67476566e-01,\n",
       "        6.74948577e-01,  1.14283853e-01, -7.88278086e-01, -2.72889347e+00,\n",
       "        4.00145608e-01,  1.17120624e+00, -9.79548121e-01, -1.75915263e+00,\n",
       "       -1.56966888e+00, -1.13382944e+00,  1.90870254e-02, -1.41373699e+00,\n",
       "       -2.40069933e-01,  1.21618675e+00,  7.18913203e-01, -2.11356309e+00,\n",
       "        9.66403217e-01, -4.77264922e-01,  3.41665733e-01,  1.30481331e+00,\n",
       "       -1.34788767e+00,  1.69110715e+00,  1.07233382e+00,  1.86355888e+00,\n",
       "        8.34751406e-01,  4.11923248e-01,  1.14690408e+00, -6.72757607e-01,\n",
       "       -7.22547321e-01, -6.83686344e-01,  4.63608512e-01,  8.61702403e-01,\n",
       "        8.85254709e-01, -4.23575930e-01,  1.01857275e+00, -2.59158868e-02,\n",
       "       -7.30174057e-01,  2.58442156e-02, -1.58626030e-01,  1.59487769e+00,\n",
       "        1.47007849e+00, -1.81399801e+00, -1.60418392e+00, -3.21582710e-01,\n",
       "        2.32756386e+00,  1.02468143e+00,  9.41327678e-01,  1.54239770e+00,\n",
       "        1.12636349e+00, -1.54695778e+00, -4.31536869e-01,  1.12973359e+00,\n",
       "        1.74124497e-01, -1.18320050e-01,  3.73894245e-01,  7.52793711e-01,\n",
       "       -1.01702830e+00, -7.79788454e-01, -1.59185226e+00,  6.97990137e-01,\n",
       "       -7.58794250e-01, -2.00914400e+00, -9.48280951e-02, -1.21184625e+00,\n",
       "        8.17038218e-02, -4.07722233e-01,  7.50928598e-01,  1.50831449e+00,\n",
       "        1.05290203e+00, -1.56392992e-01, -2.39847865e-01,  2.38350202e-01,\n",
       "       -1.30766949e-01, -5.14796644e-01,  8.74581739e-01,  3.15093176e-01,\n",
       "        1.46552692e+00, -2.16150906e+00,  7.38344031e-01, -2.33186957e+00,\n",
       "        1.49988567e+00,  6.64252734e-01,  5.83915739e-01, -2.82694260e-01,\n",
       "        1.80600915e-01, -8.35091466e-01,  7.83497642e-01,  1.08057014e-01,\n",
       "       -2.10210381e+00,  1.35338791e+00,  6.59086143e-01,  4.38257213e-01,\n",
       "       -1.46757869e+00,  4.65015369e-01,  3.74785749e-01, -3.62999589e-01,\n",
       "        1.46348275e+00,  6.18375903e-01,  1.26439939e-01,  5.60160246e-01,\n",
       "        1.83099703e+00, -7.04349756e-01, -2.26037439e+00,  1.91401151e+00,\n",
       "        6.17659898e-01,  1.77687121e+00,  1.20749580e+00, -4.17505648e-01,\n",
       "       -1.10078870e+00, -2.02962644e-01, -3.91472251e-01,  9.22694470e-01,\n",
       "       -1.57287811e+00,  1.63282408e+00, -1.39571237e+00, -5.50872680e-02,\n",
       "        1.97056469e-01, -1.18953852e+00,  4.35514638e-01,  7.89191375e-01,\n",
       "       -4.35051660e-01, -6.89803375e-01, -5.84616705e-01, -4.26115864e-01,\n",
       "       -5.67276757e-01,  9.34631067e-01,  7.01480344e-01,  4.37581269e-01,\n",
       "        1.22150066e+00,  1.07115210e+00, -8.63654209e-01,  1.06081145e+00,\n",
       "       -1.97393690e+00,  5.84326090e-01, -1.19257613e+00,  1.66638820e+00,\n",
       "       -9.86009236e-01, -1.10767446e+00, -2.15714510e-01, -2.16163118e-01,\n",
       "       -2.14341389e+00, -2.70865717e-01, -1.34546460e-01, -7.18139773e-02,\n",
       "        9.97555852e-02,  1.45865166e-01, -1.63886146e+00,  1.72224058e+00,\n",
       "       -7.40587302e-01,  4.46214711e-01, -1.37769106e+00,  3.25738116e-01,\n",
       "       -2.58146118e-01,  5.37167719e-02,  1.17616795e+00, -5.03035984e-01,\n",
       "        7.15233123e-02, -1.84445316e-01,  3.93953138e-01,  1.45787374e+00,\n",
       "       -2.46227305e+00, -8.22424557e-01,  8.27661873e-01, -7.88790435e-01,\n",
       "       -1.84522721e+00,  1.62453789e+00, -5.24430427e-01,  1.52098322e+00,\n",
       "        1.13084009e+00, -1.08545348e-01,  1.77838743e-01, -1.03630563e+00,\n",
       "        1.87525647e+00,  2.09544367e+00,  5.32594628e-01, -1.31734581e+00,\n",
       "        1.88625624e+00,  1.19595362e-01,  3.92885753e-01,  4.83316015e-02,\n",
       "        1.34152779e+00, -1.34195163e+00, -1.70824490e+00,  8.03056950e-02,\n",
       "       -1.48905900e-01, -7.74158819e-01, -1.13039556e-01, -4.93554499e-01,\n",
       "       -3.89016526e-01, -1.55642200e+00,  7.64679557e-01, -1.58995098e-02,\n",
       "        1.11488870e+00, -2.73081020e-01,  1.98196390e+00,  2.31258831e-01,\n",
       "       -3.59130985e-01, -1.50941615e+00,  2.23968375e-01,  9.85075338e-01,\n",
       "       -1.14798943e+00,  1.40966108e+00, -4.66270703e-01, -7.99075870e-01,\n",
       "       -3.94440693e-01,  4.32885716e-02,  2.87072023e-01,  8.27190381e-01,\n",
       "        9.82785338e-02, -2.09619265e+00,  4.45421129e-01,  8.06551085e-01,\n",
       "        1.53904344e-01,  4.93318015e-01, -5.25004281e-01,  1.35586055e+00,\n",
       "       -4.22140220e-01, -1.01069089e+00,  1.23229964e+00,  1.65256659e-01,\n",
       "        7.98307836e-01, -1.19945135e+00,  4.73711898e-01,  6.88506706e-01,\n",
       "       -3.30120215e-01, -3.55912986e-02,  4.70727289e-01,  2.91371669e-02,\n",
       "       -1.69427045e+00, -1.37215863e+00, -8.86035646e-01, -1.00419107e-01,\n",
       "       -1.51719698e+00,  2.53301730e+00, -3.01411533e-01,  7.72091885e-01,\n",
       "        1.30248248e+00,  2.67038882e+00,  9.09698848e-01,  2.72622306e-01,\n",
       "        3.75840188e-01, -9.86378616e-02,  1.29206824e+00, -6.20248280e-01,\n",
       "        3.11244268e-01, -6.73500204e-01, -6.38047947e-02,  2.34599063e+00,\n",
       "        7.61069478e-01,  8.83107508e-01, -2.02305667e-02, -1.35848128e+00,\n",
       "       -2.19058499e-01, -1.61488410e+00,  1.51352845e-02, -2.39342894e+00,\n",
       "       -1.98797002e-01,  3.12364678e-01,  7.92058368e-01,  5.12909571e-01,\n",
       "       -3.72056289e-01, -1.40873515e-01, -1.10224841e+00,  9.60166589e-01,\n",
       "       -6.94705312e-01, -3.15846063e-01, -6.62355318e-01,  3.09445817e-01,\n",
       "        7.24477546e-01,  1.14119006e+00, -1.09706669e-01,  7.13247796e-01,\n",
       "       -7.90964428e-01, -5.32694252e-01, -7.22190450e-01, -8.55900051e-01,\n",
       "       -6.85708958e-01,  2.76275108e-01,  2.35489666e-01,  1.32838340e+00,\n",
       "        7.43630011e-01, -9.68880833e-01,  9.31598630e-01,  1.40881420e+00,\n",
       "       -6.76590271e-02, -2.51208184e-01, -6.17198491e-01, -4.33487790e-01,\n",
       "        2.50385913e-01,  8.05688167e-01, -7.17660069e-01, -5.56883230e-01,\n",
       "        3.85244223e-01,  1.49431942e+00,  2.03994594e-01,  1.85280483e+00,\n",
       "        1.94547650e+00, -2.22596281e-01, -6.67888435e-01, -7.67308266e-01,\n",
       "        8.43015850e-01, -5.97331033e-01,  3.61485895e-01, -4.13952025e-01,\n",
       "       -1.73154667e-01, -1.53658145e+00, -8.00259963e-01, -1.54248751e-02,\n",
       "       -3.68561559e+00,  3.92979247e-01, -2.07165554e+00, -1.84885412e+00,\n",
       "        6.37410540e-01, -4.14401722e-01,  1.70246919e+00, -5.20075953e-01,\n",
       "       -2.57452522e+00,  1.14800335e-01,  7.92449067e-01, -5.91789071e-01,\n",
       "       -5.01348093e-01, -5.30799641e-02, -5.13479260e-01, -2.35161667e-01,\n",
       "       -1.13403824e+00, -6.57989242e-01,  1.10878161e+00,  3.20620212e-01,\n",
       "       -1.26383989e+00, -1.88971151e+00,  2.64197805e-01,  7.12445645e-01,\n",
       "        2.11973689e+00, -3.93902909e-01,  9.14624961e-01, -5.25913047e-01,\n",
       "       -2.40034736e-01, -4.97656727e-01,  5.21043592e-01,  1.42397237e+00,\n",
       "        2.21442391e-01,  7.04601986e-01, -1.34596627e+00,  2.79144619e-01,\n",
       "        1.37664068e-01, -2.59708184e-02, -1.74943860e-01,  1.42008004e+00,\n",
       "       -8.14114835e-01, -1.25836161e-01,  9.73284067e-02,  7.70167676e-01,\n",
       "        2.78483491e-01, -1.99629654e-01,  1.21649050e+00,  5.21996203e-01,\n",
       "        1.92739831e-02,  4.15505303e-01,  7.54232460e-01,  3.97037708e-01,\n",
       "       -6.87527804e-01,  2.29021698e-01,  1.26593477e+00, -1.66360526e+00,\n",
       "        1.60924952e+00,  8.97931842e-01,  6.97896197e-01, -3.24963499e-01,\n",
       "        1.93609424e+00,  5.00981004e-01,  4.14505662e-02,  6.52499767e-01,\n",
       "       -1.04725456e+00,  8.66447703e-01,  5.01507555e-01, -3.67513887e-01,\n",
       "        1.55201066e-01,  1.48205889e+00, -1.46279231e+00,  2.38745253e-01,\n",
       "        3.11247222e-01, -1.40257798e+00, -5.77936616e-01,  5.18487661e-01,\n",
       "        9.82548296e-01,  1.09969474e+00, -3.67241997e-01, -1.91519836e+00,\n",
       "        2.57753761e+00,  3.25121348e+00, -1.88132745e+00,  1.22233296e+00,\n",
       "       -3.89574603e-01, -1.47129027e+00, -5.68798507e-02,  1.18177574e+00,\n",
       "       -1.49906399e-01,  3.91944377e-01, -2.27386601e+00, -1.85761536e+00,\n",
       "       -3.41968293e-01,  7.80376150e-01, -1.56506642e+00, -5.58568807e-02,\n",
       "        2.72303672e-01,  5.58115897e-01,  2.45381328e-01,  1.96837295e+00,\n",
       "       -1.38109771e+00,  8.53208977e-01, -2.67177725e+00, -1.02514038e+00,\n",
       "        3.24637115e-01, -3.06833196e-01, -1.71045871e-02,  1.09423875e+00,\n",
       "        9.60080234e-01,  2.60691509e-01,  6.82690737e-01, -7.53823161e-01,\n",
       "       -6.96799133e-01, -1.60340268e+00, -9.25232367e-01, -5.30539782e-01,\n",
       "       -8.21887334e-02,  8.26424541e-01,  2.45069139e+00,  1.59428474e+00,\n",
       "       -1.79873195e+00,  1.38454684e+00,  3.19504524e-01,  1.50735607e+00,\n",
       "       -6.05769658e-02,  4.12155892e-01, -5.84079731e-02,  9.23613978e-01,\n",
       "       -1.31441888e-01,  1.16120357e-01, -8.85465029e-01, -1.29009249e+00,\n",
       "       -2.98355755e-01,  6.68450747e-01, -4.81038293e-01,  1.08227670e-01,\n",
       "       -7.71505892e-01,  1.35676872e+00, -6.26854055e-01,  2.76025376e-01,\n",
       "       -6.31054099e-01,  1.63253568e+00, -6.38885116e-01, -5.97037431e-01,\n",
       "       -8.96159122e-01, -2.25861826e-02,  1.77357076e+00,  2.83030898e+00,\n",
       "        1.15796846e-01, -8.17744314e-01,  4.83882641e-01, -1.12182003e+00,\n",
       "       -1.08027166e+00,  3.56537074e-02,  3.19059008e-02, -2.91110906e-01,\n",
       "       -8.15004012e-01, -8.83929568e-01,  5.11302384e-01,  1.23250355e+00,\n",
       "       -9.08195665e-01,  1.22959646e+00, -1.81573479e+00,  1.50408915e+00,\n",
       "        3.57888902e-01, -3.45053126e-01, -1.00861286e+00,  1.61437694e-01,\n",
       "       -1.13031187e+00,  8.23883570e-01,  1.06840575e+00, -5.01835802e-01,\n",
       "       -4.60327383e-01, -4.01897469e-01, -2.51465818e-01,  6.71589284e-01,\n",
       "        1.74446840e-01,  3.26368864e-01,  4.67185387e-01,  4.00051764e-01,\n",
       "       -1.51949958e+00,  2.54845209e-01,  3.32977239e-01,  1.11699295e+00,\n",
       "        1.57816988e+00,  2.38790548e-01,  2.13773362e+00, -3.90859031e-01,\n",
       "       -2.37721128e-01,  1.03781279e-01, -1.19268862e+00,  7.04506446e-01,\n",
       "        1.34674826e-02,  3.51494860e-01,  7.47017690e-02,  1.34604675e+00,\n",
       "       -7.98765113e-02,  8.16041997e-01, -8.40692032e-01, -8.00611619e-01,\n",
       "        9.71452341e-01,  1.23522174e-01,  6.80461649e-01,  5.23984342e-01,\n",
       "        1.32921160e+00, -2.88471239e-01, -7.71025830e-01,  1.18924190e+00,\n",
       "        7.66156229e-01, -6.56859469e-01, -6.73530845e-01,  8.33124736e-01,\n",
       "        6.10714277e-01, -7.62785798e-01,  4.13377659e-01,  4.00407420e-01,\n",
       "        1.61821212e+00, -2.01178914e-02,  8.46909925e-01, -1.78741432e-02,\n",
       "       -4.44659206e-01,  1.87997969e+00,  7.71264982e-01, -6.94437538e-01,\n",
       "       -1.83204673e+00, -9.07321876e-02, -2.52931680e-01, -4.29929491e-01,\n",
       "        2.49322936e-01, -1.35392155e+00,  1.64484051e+00,  5.21337402e-01,\n",
       "       -2.37034519e-02,  7.30742887e-01,  3.55739302e-01, -7.06242758e-03,\n",
       "        4.64548395e-02,  1.74310365e+00, -1.59546284e-01,  1.95193644e+00,\n",
       "       -1.10334473e-01, -1.39642625e+00, -7.27256757e-01, -1.01637008e+00,\n",
       "       -5.05849940e-01,  1.60921368e-01,  1.99418377e-01, -3.76848099e-01,\n",
       "       -9.97253099e-01, -9.52362850e-01, -1.50376690e+00, -2.77141885e-01,\n",
       "       -8.87388417e-01, -4.83797525e-01, -1.58342966e+00, -1.60579537e-02,\n",
       "       -1.07574262e+00,  9.70824319e-01, -3.41888708e-01,  9.11855672e-02,\n",
       "       -6.03698059e-01, -8.74521737e-01,  2.01288941e+00,  2.32908657e+00,\n",
       "       -4.92574067e-01, -2.32278612e-01,  8.22852601e-01,  5.47696146e-01,\n",
       "        3.34613974e-03,  4.70921440e-01, -1.39218942e+00, -1.01609820e+00,\n",
       "        2.45913710e+00, -5.24784768e-01,  1.57313554e+00, -2.28875770e+00,\n",
       "        2.53489687e-01, -1.36456790e+00, -5.49415833e-01,  1.19877326e+00,\n",
       "        5.91082621e-01,  1.87535517e+00,  3.86959600e-01, -3.82951033e-01,\n",
       "       -1.41445163e+00, -8.78843257e-01, -1.68898135e+00,  3.23394005e-02,\n",
       "       -1.09391133e+00, -9.85398713e-01,  8.03082109e-01,  5.94264126e-01,\n",
       "       -1.82184453e+00, -7.57988702e-01, -3.52668570e-01,  4.42563045e-01,\n",
       "        2.90504213e-01, -1.20386056e+00,  2.38358470e-01, -6.34252524e-01,\n",
       "        5.43351903e-01, -3.95029581e-02, -1.07450007e+00,  8.00243572e-01,\n",
       "        1.55260425e+00,  3.63032597e-01, -7.16581359e-01, -2.11927127e-01,\n",
       "       -5.37331604e-01, -9.60562102e-01,  8.79037346e-01, -1.10837160e+00,\n",
       "        4.37750256e-01, -5.07069718e-01, -1.27944898e-02,  3.44538401e-01,\n",
       "       -2.32629633e-01, -6.62931804e-01, -1.24339015e+00,  1.87188235e+00,\n",
       "       -6.19261535e-01, -9.07703242e-01, -6.79286914e-01, -4.12376824e-01,\n",
       "        1.28801081e-01, -2.42085308e-01,  2.71126132e-01, -5.02134886e-01,\n",
       "        8.31360096e-01,  3.90064552e-01,  5.10773417e-01,  4.48542545e-01,\n",
       "       -1.37748870e+00,  1.24629121e+00, -1.32366890e-02, -1.85820749e+00,\n",
       "       -2.79424522e-01, -1.00212990e+00,  1.93301558e+00,  9.24500575e-01,\n",
       "        6.40747684e-01, -8.75730226e-02, -5.74601607e-01, -2.47572673e+00,\n",
       "       -7.81094991e-01, -1.18996528e+00,  1.43176184e+00, -5.22661944e-01,\n",
       "        8.91729954e-01,  1.88896857e+00, -1.67124741e+00,  3.76968381e-01,\n",
       "        9.72090446e-01,  5.85945733e-01,  1.49064543e-01,  3.28302028e-01,\n",
       "       -5.06259840e-02, -1.72620232e+00,  1.00430749e-02, -1.52734392e+00,\n",
       "       -1.70340970e+00,  8.29464637e-01,  9.90862439e-01,  1.42303351e+00,\n",
       "       -5.58494210e-02, -4.65413598e-01,  3.07589487e-03, -3.31513316e+00,\n",
       "       -5.58182890e-01, -1.20011638e+00, -1.39334497e+00, -2.75914155e-01,\n",
       "       -8.32615328e-01,  5.40112101e-01, -7.16794249e-01, -1.13878575e+00,\n",
       "       -1.86797070e-01, -3.41178714e-01,  1.36122456e-02, -7.64238188e-01,\n",
       "       -2.69803435e-01,  9.69044948e-01, -4.24588239e-01, -1.91197262e-01,\n",
       "       -1.31299821e+00, -3.03842957e-01, -7.95457918e-01, -6.01565480e-01,\n",
       "        3.04943405e+00, -5.09539561e-01,  1.04081872e-01,  1.06675187e+00,\n",
       "       -6.61543596e-01, -1.22008871e+00,  8.94093062e-01,  1.47698023e+00,\n",
       "       -5.64348166e-01,  7.38587424e-01,  4.37119144e-01,  1.99590445e+00,\n",
       "       -6.95657753e-02, -3.69233312e-01,  3.46346786e-01,  6.99003563e-01,\n",
       "       -1.97677143e-01,  1.82827539e-01,  1.39844469e+00,  1.37556487e+00,\n",
       "        1.49885223e-01,  9.24573988e-01, -5.57459910e-01,  5.11989767e-01,\n",
       "        8.44222147e-01,  2.19148618e-01,  5.93504576e-01,  2.36484302e+00,\n",
       "       -1.45824576e+00, -2.29084693e+00, -8.57627407e-01, -9.34743030e-01,\n",
       "       -5.29687742e-02, -1.22221004e+00, -2.33177857e-01, -1.01710032e+00,\n",
       "       -2.29650335e-01, -1.86232972e+00, -3.49400058e-01,  6.60429779e-01,\n",
       "        1.10015723e+00, -6.66180301e-01, -9.86713628e-02,  5.83454462e-01,\n",
       "       -7.20851815e-01,  8.00195138e-01, -8.18109410e-02, -6.81495206e-01,\n",
       "        1.06808828e+00,  4.37800277e-01,  1.89314075e+00, -1.32661110e+00,\n",
       "       -2.08524706e-01,  1.26079779e+00,  1.08142872e+00, -5.80005958e-01,\n",
       "        5.79473139e-01, -5.09881504e-01,  3.71223214e-01, -1.57405345e+00,\n",
       "        7.13256806e-01,  1.39007026e+00,  8.77654046e-01, -5.48010641e-02,\n",
       "        9.67707956e-01,  3.41963679e-01,  1.56058998e+00, -1.44175030e+00,\n",
       "       -2.19368176e-01, -5.00582867e-02,  4.41712363e-01, -1.04540688e+00,\n",
       "       -3.23447433e+00,  8.38790558e-01, -7.33918917e-01, -1.13535466e+00,\n",
       "        1.15912126e+00, -6.19168828e-01, -2.42231123e-01,  4.82763943e-01,\n",
       "        6.21801008e-02, -1.10395635e+00, -5.47474229e-01,  4.22282586e-01,\n",
       "       -8.38476941e-01, -2.07958710e+00,  1.26272776e+00, -1.08773375e+00,\n",
       "       -4.67401355e-01, -1.70874274e-01,  2.43912509e-01, -8.63876045e-01,\n",
       "        6.82771310e-01, -1.49067090e-01,  3.64259981e-01, -3.01753454e-01,\n",
       "       -1.12133275e+00,  9.50512461e-01, -1.97425799e-01, -1.80770045e-01,\n",
       "        8.88507820e-01,  6.64839904e-01, -9.96105449e-01, -2.15760987e-01,\n",
       "       -1.72993458e-01, -6.19251345e-01, -6.81725385e-01,  4.75793445e-01,\n",
       "        6.54347094e-01,  1.06035417e+00, -1.01883477e+00,  4.58079628e-02,\n",
       "       -8.11559650e-01,  2.60210512e+00,  2.98442557e-01, -1.38257762e+00,\n",
       "        2.04935718e-02, -6.35893969e-02,  2.78581393e-01,  4.27244669e-01,\n",
       "       -1.70647957e+00, -1.03389610e+00,  1.64410657e+00, -1.21362955e-01,\n",
       "       -1.59811264e+00,  2.83572483e-01,  5.66309869e-01,  1.76385523e+00,\n",
       "       -4.26681402e-01, -4.08785691e-01,  7.39979760e-01, -1.17224459e+00,\n",
       "       -1.51502088e-01,  7.19911946e-01,  7.59630014e-01,  2.06305226e-01,\n",
       "       -6.16729755e-01,  4.14946395e-01, -1.30601780e+00, -3.73050772e-01,\n",
       "        1.05560459e+00, -1.15657760e+00,  1.61101580e-01,  1.41301868e+00,\n",
       "       -1.59086853e+00, -3.01910388e-01,  9.85833412e-01,  1.44675279e+00,\n",
       "        1.79097090e+00, -2.02844894e-01,  1.43422819e+00,  2.19701968e+00,\n",
       "        1.72842916e+00,  5.26587944e-01, -7.45411325e-01,  4.80194763e-01,\n",
       "       -1.40926599e+00,  3.67886005e-01, -1.14069972e+00,  9.30663814e-01,\n",
       "        3.61727340e-01, -1.50499125e+00, -1.17728822e+00,  2.51319580e+00,\n",
       "       -1.10654394e+00,  2.61607690e-02,  3.52954720e-01,  5.98235550e-01,\n",
       "       -2.18613543e-02, -7.52618276e-01, -1.08145314e+00,  3.51657065e-01,\n",
       "        1.11294514e+00,  6.34495981e-01, -3.72136243e-01,  4.20355758e-01])"
      ]
     },
     "execution_count": 58,
     "metadata": {},
     "output_type": "execute_result"
    }
   ],
   "source": [
    "x = np.random.normal(0.0, 1.0, 1000)\n",
    "x"
   ]
  },
  {
   "cell_type": "code",
   "execution_count": 62,
   "metadata": {},
   "outputs": [
    {
     "data": {
      "image/png": "[encoded data removed]",
      "text/plain": [
       "<matplotlib.figure.Figure at 0x199d806bb70>"
      ]
     },
     "metadata": {},
     "output_type": "display_data"
    }
   ],
   "source": [
    "plt.hist(x, bins=10)\n",
    "plt.show()"
   ]
  },
  {
   "cell_type": "markdown",
   "metadata": {},
   "source": [
    "Histogram is a one dimensional plot. 1,000 random values of x. plt.hist finds the smallest value of x (-3.7), then it finds the biggest value of x (3.3). Then it chops the range up into what it calls bins. Then it provides a barchart of the number of values that fall within each bin. In range 1.1 to 1.8, there are approx 90 values. This is like a little picture of how the x values are distributed along the x axis. This is one way of displaying what the values of a single variable look like. The most common values are in the 0 to 1 range."
   ]
  },
  {
   "cell_type": "markdown",
   "metadata": {},
   "source": [
    "### 4. Expain the use of seeds in generating pseudorandom numbers."
   ]
  },
  {
   "cell_type": "code",
   "execution_count": null,
   "metadata": {},
   "outputs": [],
   "source": []
  }
 ],
 "metadata": {
  "kernelspec": {
   "display_name": "Python 3",
   "language": "python",
   "name": "python3"
  },
  "language_info": {
   "codemirror_mode": {
    "name": "ipython",
    "version": 3
   },
   "file_extension": ".py",
   "mimetype": "text/x-python",
   "name": "python",
   "nbconvert_exporter": "python",
   "pygments_lexer": "ipython3",
   "version": "3.7.0"
  }
 },
 "nbformat": 4,
 "nbformat_minor": 2
}
