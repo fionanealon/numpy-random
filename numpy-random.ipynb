{
 "cells": [
  {
   "cell_type": "markdown",
   "metadata": {},
   "source": [
    "# Problem Statement"
   ]
  },
  {
   "cell_type": "markdown",
   "metadata": {},
   "source": [
    "The following assignment concerns the numpy.random package in Python. You are required to create a Jupyter notebook explaining the use of the package, including detailed eplanations of at least five of the distributions provided for in the package. There are 4 distinct tasks to be carried out in your Jupyter noteboook."
   ]
  },
  {
   "cell_type": "markdown",
   "metadata": {},
   "source": [
    "## References\n",
    "- https://docs.scipy.org/doc/numpy-1.15.1/reference/routines.random.html\n",
    "- https://realpython.com/python-random/\n",
    "- https://www.tutorialspoint.com/How-to-use-Python-Numpy-to-generate-Random-Numbers\n"
   ]
  },
  {
   "cell_type": "markdown",
   "metadata": {},
   "source": [
    "### 1. Explain the overall purpose of the package"
   ]
  },
  {
   "cell_type": "markdown",
   "metadata": {},
   "source": [
    "The random module in Numpy package contains many functions for generation of random numbers\n",
    "The Python standard library provides a module called random that offers a suite of functions for generating random numbers.\n",
    "\n",
    "\n",
    "How random is random? This is a weird question to ask, but it is one of paramount importance in cases where information security is concerned. Whenever you’re generating random data, strings, or numbers in Python, it’s a good idea to have at least a rough idea of how that data was generated.\n",
    "Here, you’ll cover a handful of different options for generating random data in Python, and then build up to a comparison of each in terms of its level of security, versatility, purpose, and speed.\n",
    "I promise that this tutorial will not be a lesson in mathematics or cryptography, which I wouldn’t be well equipped to lecture on in the first place. You’ll get into just as much math as needed, and no more."
   ]
  },
  {
   "cell_type": "code",
   "execution_count": null,
   "metadata": {},
   "outputs": [],
   "source": [
    "This function returns numbers in an array of dimensions provived to it"
   ]
  },
  {
   "cell_type": "code",
   "execution_count": 1,
   "metadata": {},
   "outputs": [],
   "source": [
    "import numpy as np"
   ]
  },
  {
   "cell_type": "code",
   "execution_count": 5,
   "metadata": {},
   "outputs": [
    {
     "data": {
      "text/plain": [
       "array([[0.78369683, 0.24633791],\n",
       "       [0.13215013, 0.73800234],\n",
       "       [0.04774442, 0.93022976]])"
      ]
     },
     "execution_count": 5,
     "metadata": {},
     "output_type": "execute_result"
    }
   ],
   "source": [
    "np.random.rand(3, 2)\n",
    "# 3 rows, 2 columns"
   ]
  },
  {
   "cell_type": "code",
   "execution_count": 6,
   "metadata": {},
   "outputs": [
    {
     "data": {
      "text/plain": [
       "array([[0.50961107, 0.28586415, 0.29246669, 0.40443618],\n",
       "       [0.49106216, 0.10260601, 0.66752357, 0.19904405],\n",
       "       [0.00695628, 0.96242031, 0.95833357, 0.57248281],\n",
       "       [0.77680093, 0.21636772, 0.94709556, 0.80489187],\n",
       "       [0.68557274, 0.10181609, 0.56360487, 0.4206943 ],\n",
       "       [0.78136376, 0.67100401, 0.6503915 , 0.10150629],\n",
       "       [0.86704612, 0.81017732, 0.51115806, 0.58140893],\n",
       "       [0.57434987, 0.94850482, 0.02816885, 0.46273299],\n",
       "       [0.77380164, 0.48509739, 0.81518813, 0.34033346],\n",
       "       [0.31998091, 0.53712222, 0.93090291, 0.21568673]])"
      ]
     },
     "execution_count": 6,
     "metadata": {},
     "output_type": "execute_result"
    }
   ],
   "source": [
    "np.random.rand(10, 4)"
   ]
  },
  {
   "cell_type": "code",
   "execution_count": 10,
   "metadata": {},
   "outputs": [
    {
     "data": {
      "text/plain": [
       "0.9931138934215917"
      ]
     },
     "execution_count": 10,
     "metadata": {},
     "output_type": "execute_result"
    }
   ],
   "source": [
    "np.random.rand()\n",
    "# Generates a random number on the fly"
   ]
  },
  {
   "cell_type": "code",
   "execution_count": 11,
   "metadata": {},
   "outputs": [
    {
     "data": {
      "text/plain": [
       "array([[[0.41560638, 0.20493493, 0.68575435],\n",
       "        [0.36270402, 0.88486212, 0.89248468],\n",
       "        [0.18253354, 0.15169001, 0.5165264 ],\n",
       "        [0.46984334, 0.17884174, 0.87496013]],\n",
       "\n",
       "       [[0.01925929, 0.09513473, 0.09854258],\n",
       "        [0.76218316, 0.15125607, 0.87663062],\n",
       "        [0.0729201 , 0.50731447, 0.37575849],\n",
       "        [0.87244133, 0.6771571 , 0.22314408]]])"
      ]
     },
     "execution_count": 11,
     "metadata": {},
     "output_type": "execute_result"
    }
   ],
   "source": [
    "np.random.rand(2, 4, 3)\n",
    "## 2 arrays, 4 rows, 3 columns"
   ]
  },
  {
   "cell_type": "code",
   "execution_count": 13,
   "metadata": {},
   "outputs": [],
   "source": [
    "# [0, 1)\n",
    "# In mathematics, this is notation for an interval - section of the real line between 0 and 1.\n",
    "# Square bracket means [ is included and round bracket means 1 is not included.\n",
    "# Rand function can give you a number between 0 (including 0) and 1 (not including 1)."
   ]
  },
  {
   "cell_type": "code",
   "execution_count": 14,
   "metadata": {},
   "outputs": [],
   "source": [
    "import numpy as np"
   ]
  },
  {
   "cell_type": "code",
   "execution_count": 16,
   "metadata": {},
   "outputs": [
    {
     "data": {
      "text/plain": [
       "array([0.23207746, 0.86649114, 0.94116353, ..., 0.76494579, 0.94120061,\n",
       "       0.68014964])"
      ]
     },
     "execution_count": 16,
     "metadata": {},
     "output_type": "execute_result"
    }
   ],
   "source": [
    "x = np.random.rand(10000)\n",
    "x\n",
    "# Set x as the variable and generate 10000 numbers"
   ]
  },
  {
   "cell_type": "code",
   "execution_count": 18,
   "metadata": {},
   "outputs": [
    {
     "data": {
      "image/png": "[encoded data removed]",
      "text/plain": [
       "<Figure size 432x288 with 1 Axes>"
      ]
     },
     "metadata": {
      "needs_background": "light"
     },
     "output_type": "display_data"
    }
   ],
   "source": [
    "%matplotlib inline\n",
    "\n",
    "import matplotlib.pyplot as plt\n",
    "\n",
    "# Histogram is a plot for one dimensional data\n",
    "# Continuous variable\n",
    "# If you have a number of values and you wish to see what values are most typical in the random values that have created out of the 10000\n",
    "plt.hist(x)\n",
    "plt.show()"
   ]
  },
  {
   "cell_type": "markdown",
   "metadata": {},
   "source": [
    "### 2. Explain the use of the \"Simple random data\" and \"Permuations\" functions."
   ]
  },
  {
   "cell_type": "markdown",
   "metadata": {},
   "source": [
    "### Rand Function"
   ]
  },
  {
   "cell_type": "code",
   "execution_count": null,
   "metadata": {},
   "outputs": [],
   "source": []
  },
  {
   "cell_type": "code",
   "execution_count": 1,
   "metadata": {},
   "outputs": [],
   "source": [
    "import numpy as np"
   ]
  },
  {
   "cell_type": "code",
   "execution_count": 3,
   "metadata": {},
   "outputs": [
    {
     "data": {
      "text/plain": [
       "array([[0.25875036, 0.87416182],\n",
       "       [0.00793687, 0.41492439],\n",
       "       [0.80314471, 0.02503314]])"
      ]
     },
     "execution_count": 3,
     "metadata": {},
     "output_type": "execute_result"
    }
   ],
   "source": [
    "# Creates an array and that array contains 3 other arrays and each of these arrays has 2 elements\n",
    "# Returns floats\n",
    "np.random.rand(3, 2)"
   ]
  },
  {
   "cell_type": "code",
   "execution_count": 5,
   "metadata": {},
   "outputs": [
    {
     "data": {
      "text/plain": [
       "array([[0.72902417, 0.46648289],\n",
       "       [0.7222238 , 0.15957335],\n",
       "       [0.74594551, 0.85491092]])"
      ]
     },
     "execution_count": 5,
     "metadata": {},
     "output_type": "execute_result"
    }
   ],
   "source": [
    "# If I re-generate this function, different numbers are returned each time as the function generates random numbers\n",
    "np.random.rand(3, 2)"
   ]
  },
  {
   "cell_type": "code",
   "execution_count": 8,
   "metadata": {},
   "outputs": [
    {
     "data": {
      "text/plain": [
       "array([[0.774237  , 0.24069824, 0.03772796, 0.74770328, 0.84022427,\n",
       "        0.66313468, 0.20844571, 0.24935092, 0.53370262, 0.83519533],\n",
       "       [0.40655273, 0.69255786, 0.99427267, 0.57291345, 0.8908143 ,\n",
       "        0.41036505, 0.28311466, 0.20843306, 0.40886359, 0.12320844],\n",
       "       [0.77690323, 0.70766044, 0.20570717, 0.88974191, 0.26795692,\n",
       "        0.3261709 , 0.58803151, 0.18388565, 0.35651574, 0.28887749],\n",
       "       [0.3766089 , 0.20544514, 0.82507109, 0.70572811, 0.73097255,\n",
       "        0.1579805 , 0.13928256, 0.79020272, 0.27412366, 0.46424725]])"
      ]
     },
     "execution_count": 8,
     "metadata": {},
     "output_type": "execute_result"
    }
   ],
   "source": [
    "# Returns random numbers in an array of the dimensions that I give it\n",
    "np.random.rand(4, 10)"
   ]
  },
  {
   "cell_type": "code",
   "execution_count": 11,
   "metadata": {},
   "outputs": [
    {
     "data": {
      "text/plain": [
       "array([0.42058837, 0.79832309, 0.67206339, 0.747694  ])"
      ]
     },
     "execution_count": 11,
     "metadata": {},
     "output_type": "execute_result"
    }
   ],
   "source": [
    "# Creates an array with 4 elements. Values bewteen () provide the shape of the array (Rows, colums etc. that the array has) \n",
    "np.random.rand(4)"
   ]
  },
  {
   "cell_type": "code",
   "execution_count": 13,
   "metadata": {},
   "outputs": [
    {
     "data": {
      "text/plain": [
       "0.5318612686884766"
      ]
     },
     "execution_count": 13,
     "metadata": {},
     "output_type": "execute_result"
    }
   ],
   "source": [
    "# Rand function with no argument returns a single floating number\n",
    "np.random.rand()"
   ]
  },
  {
   "cell_type": "markdown",
   "metadata": {},
   "source": [
    "[0,1)\n",
    "- In mathematics, this is notation for an interval. The reason there is a '[' on the left hand side of the 0 is because teh interval includes the number 0. The reason there is a ')' on the right hand side of the 1 is because it doesnt include the number 1. Therefore, using this interval, the rand function can give you a number between 0 (including 0) and 1 (not including 1)."
   ]
  },
  {
   "cell_type": "code",
   "execution_count": 14,
   "metadata": {},
   "outputs": [],
   "source": [
    "import numpy as py"
   ]
  },
  {
   "cell_type": "code",
   "execution_count": 17,
   "metadata": {},
   "outputs": [
    {
     "data": {
      "text/plain": [
       "array([0.26443676, 0.28777689, 0.34803468, ..., 0.60894795, 0.47722477,\n",
       "       0.89297255])"
      ]
     },
     "execution_count": 17,
     "metadata": {},
     "output_type": "execute_result"
    }
   ],
   "source": [
    "x = np.random.rand(10000)\n",
    "x"
   ]
  },
  {
   "cell_type": "code",
   "execution_count": 23,
   "metadata": {},
   "outputs": [
    {
     "data": {
      "image/png": "[encoded data removed]",
      "text/plain": [
       "<Figure size 432x288 with 1 Axes>"
      ]
     },
     "metadata": {
      "needs_background": "light"
     },
     "output_type": "display_data"
    }
   ],
   "source": [
    "%matplotlib inline\n",
    "\n",
    "import matplotlib.pyplot as plt\n",
    "\n",
    "plt.hist(x)\n",
    "plt.show()"
   ]
  },
  {
   "cell_type": "markdown",
   "metadata": {},
   "source": [
    "The above histogram is a barchart/picture of the different random numbers that the function rand has generated for us. A histogram is similar to to a barchart but contains a continuous variable on the x axis. The hist function finds a resonable number of bars to segregate the data into.\n",
    "\n",
    "The above histogram is telling us that the rand function has generated 10,000 numbers where roughly 1,000 of them are between 0.0 and 0.1, roughly 1,000 of them are between 0.1 and 0.2, roughly 1,000 of them are between 0.2 and 0.3 etc all the way up to but including 1.0. Therefore, we can summize that the rand function is as likely to generate the number 0.55 as it 0.1 as it 0.726. All of the numbers between 0.0 and 1.0 have the same chance of being generated by this rand function."
   ]
  },
  {
   "cell_type": "markdown",
   "metadata": {},
   "source": [
    "### 3. Explain the use and purpose of at least five \"Distributions\" functions."
   ]
  },
  {
   "cell_type": "markdown",
   "metadata": {},
   "source": [
    "### 4. Expain the use of seeds in generating pseudorandom numbers."
   ]
  },
  {
   "cell_type": "code",
   "execution_count": null,
   "metadata": {},
   "outputs": [],
   "source": []
  }
 ],
 "metadata": {
  "kernelspec": {
   "display_name": "Python 3",
   "language": "python",
   "name": "python3"
  },
  "language_info": {
   "codemirror_mode": {
    "name": "ipython",
    "version": 3
   },
   "file_extension": ".py",
   "mimetype": "text/x-python",
   "name": "python",
   "nbconvert_exporter": "python",
   "pygments_lexer": "ipython3",
   "version": "3.7.0"
  }
 },
 "nbformat": 4,
 "nbformat_minor": 2
}
