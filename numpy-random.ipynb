{
 "cells": [
  {
   "cell_type": "markdown",
   "metadata": {},
   "source": [
    "# The numpy.random package"
   ]
  },
  {
   "cell_type": "code",
   "execution_count": null,
   "metadata": {},
   "outputs": [],
   "source": [
    "This function returns numbers in an array of dimensions provived to it"
   ]
  },
  {
   "cell_type": "code",
   "execution_count": 1,
   "metadata": {},
   "outputs": [],
   "source": [
    "import numpy as np"
   ]
  },
  {
   "cell_type": "code",
   "execution_count": 5,
   "metadata": {},
   "outputs": [
    {
     "data": {
      "text/plain": [
       "array([[0.78369683, 0.24633791],\n",
       "       [0.13215013, 0.73800234],\n",
       "       [0.04774442, 0.93022976]])"
      ]
     },
     "execution_count": 5,
     "metadata": {},
     "output_type": "execute_result"
    }
   ],
   "source": [
    "np.random.rand(3, 2)\n",
    "# 3 rows, 2 columns"
   ]
  },
  {
   "cell_type": "code",
   "execution_count": 6,
   "metadata": {},
   "outputs": [
    {
     "data": {
      "text/plain": [
       "array([[0.50961107, 0.28586415, 0.29246669, 0.40443618],\n",
       "       [0.49106216, 0.10260601, 0.66752357, 0.19904405],\n",
       "       [0.00695628, 0.96242031, 0.95833357, 0.57248281],\n",
       "       [0.77680093, 0.21636772, 0.94709556, 0.80489187],\n",
       "       [0.68557274, 0.10181609, 0.56360487, 0.4206943 ],\n",
       "       [0.78136376, 0.67100401, 0.6503915 , 0.10150629],\n",
       "       [0.86704612, 0.81017732, 0.51115806, 0.58140893],\n",
       "       [0.57434987, 0.94850482, 0.02816885, 0.46273299],\n",
       "       [0.77380164, 0.48509739, 0.81518813, 0.34033346],\n",
       "       [0.31998091, 0.53712222, 0.93090291, 0.21568673]])"
      ]
     },
     "execution_count": 6,
     "metadata": {},
     "output_type": "execute_result"
    }
   ],
   "source": [
    "np.random.rand(10, 4)"
   ]
  },
  {
   "cell_type": "code",
   "execution_count": 10,
   "metadata": {},
   "outputs": [
    {
     "data": {
      "text/plain": [
       "0.9931138934215917"
      ]
     },
     "execution_count": 10,
     "metadata": {},
     "output_type": "execute_result"
    }
   ],
   "source": [
    "np.random.rand()\n",
    "# Generates a random number on the fly"
   ]
  },
  {
   "cell_type": "code",
   "execution_count": 11,
   "metadata": {},
   "outputs": [
    {
     "data": {
      "text/plain": [
       "array([[[0.41560638, 0.20493493, 0.68575435],\n",
       "        [0.36270402, 0.88486212, 0.89248468],\n",
       "        [0.18253354, 0.15169001, 0.5165264 ],\n",
       "        [0.46984334, 0.17884174, 0.87496013]],\n",
       "\n",
       "       [[0.01925929, 0.09513473, 0.09854258],\n",
       "        [0.76218316, 0.15125607, 0.87663062],\n",
       "        [0.0729201 , 0.50731447, 0.37575849],\n",
       "        [0.87244133, 0.6771571 , 0.22314408]]])"
      ]
     },
     "execution_count": 11,
     "metadata": {},
     "output_type": "execute_result"
    }
   ],
   "source": [
    "np.random.rand(2, 4, 3)\n",
    "## 2 arrays, 4 rows, 3 columns"
   ]
  },
  {
   "cell_type": "code",
   "execution_count": 13,
   "metadata": {},
   "outputs": [],
   "source": [
    "# [0, 1)\n",
    "# In mathematics, this is notation for an interval - section of the real line between 0 and 1.\n",
    "# Square bracket means [ is included and round bracket means 1 is not included.\n",
    "# Rand function can give you a number between 0 (including 0) and 1 (not including 1)."
   ]
  },
  {
   "cell_type": "code",
   "execution_count": 14,
   "metadata": {},
   "outputs": [],
   "source": [
    "import numpy as np"
   ]
  },
  {
   "cell_type": "code",
   "execution_count": 16,
   "metadata": {},
   "outputs": [
    {
     "data": {
      "text/plain": [
       "array([0.23207746, 0.86649114, 0.94116353, ..., 0.76494579, 0.94120061,\n",
       "       0.68014964])"
      ]
     },
     "execution_count": 16,
     "metadata": {},
     "output_type": "execute_result"
    }
   ],
   "source": [
    "x = np.random.rand(10000)\n",
    "x\n",
    "# Set x as the variable and generate 10000 numbers"
   ]
  },
  {
   "cell_type": "code",
   "execution_count": 18,
   "metadata": {},
   "outputs": [
    {
     "data": {
      "image/png": "[encoded data removed]",
      "text/plain": [
       "<Figure size 432x288 with 1 Axes>"
      ]
     },
     "metadata": {
      "needs_background": "light"
     },
     "output_type": "display_data"
    }
   ],
   "source": [
    "%matplotlib inline\n",
    "\n",
    "import matplotlib.pyplot as plt\n",
    "\n",
    "# Histogram is a plot for one dimensional data\n",
    "# Continuous variable\n",
    "# If you have a number of values and you wish to see what values are most typical in the random values that have created out of the 10000\n",
    "plt.hist(x)\n",
    "plt.show()"
   ]
  },
  {
   "cell_type": "code",
   "execution_count": null,
   "metadata": {},
   "outputs": [],
   "source": []
  },
  {
   "cell_type": "code",
   "execution_count": null,
   "metadata": {},
   "outputs": [],
   "source": []
  }
 ],
 "metadata": {
  "kernelspec": {
   "display_name": "Python 3",
   "language": "python",
   "name": "python3"
  },
  "language_info": {
   "codemirror_mode": {
    "name": "ipython",
    "version": 3
   },
   "file_extension": ".py",
   "mimetype": "text/x-python",
   "name": "python",
   "nbconvert_exporter": "python",
   "pygments_lexer": "ipython3",
   "version": "3.7.0"
  }
 },
 "nbformat": 4,
 "nbformat_minor": 2
}
